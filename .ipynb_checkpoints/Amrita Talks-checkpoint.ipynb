{
 "cells": [
  {
   "cell_type": "code",
   "execution_count": null,
   "metadata": {},
   "outputs": [],
   "source": []
  },
  {
   "cell_type": "code",
   "execution_count": 1,
   "metadata": {},
   "outputs": [
    {
     "name": "stderr",
     "output_type": "stream",
     "text": [
      "Using TensorFlow backend.\n"
     ]
    },
    {
     "name": "stdout",
     "output_type": "stream",
     "text": [
      "LOADED\n"
     ]
    }
   ],
   "source": [
    "from flask_sqlalchemy import SQLAlchemy\n",
    "from wsgiref import simple_server\n",
    "from flask import Flask, render_template ,redirect, url_for,request,session,flash,make_response\n",
    "from functools import wraps\n",
    "import re\n",
    "from datetime import datetime\n",
    "import bcrypt\n",
    "import json\n",
    "import time\n",
    "from keras_preprocessing.text import tokenizer_from_json\n",
    "from keras.preprocessing.sequence import pad_sequences\n",
    "from keras.models import model_from_json\n",
    "import pandas as pd\n",
    "\n",
    "def init():\n",
    "    with open('model_architecture.json', 'r') as f:\n",
    "        model = model_from_json(f.read())\n",
    "    model.load_weights('model_weights.h5')    \n",
    "    return model\n",
    "    \n",
    "with open('tokenizer.json') as f:\n",
    "    data = json.load(f)\n",
    "    tokenizer = tokenizer_from_json(data)\n",
    "    \n",
    "model=init()    \n",
    "\n",
    "print(\"LOADED\")"
   ]
  },
  {
   "cell_type": "code",
   "execution_count": 2,
   "metadata": {},
   "outputs": [
    {
     "name": "stderr",
     "output_type": "stream",
     "text": [
      "C:\\ProgramData\\Anaconda3\\lib\\site-packages\\flask_sqlalchemy\\__init__.py:835: FSADeprecationWarning: SQLALCHEMY_TRACK_MODIFICATIONS adds significant overhead and will be disabled by default in the future.  Set it to True or False to suppress this warning.\n",
      "  'SQLALCHEMY_TRACK_MODIFICATIONS adds significant overhead and '\n"
     ]
    }
   ],
   "source": [
    "app = Flask(__name__)\n",
    "app.config['SQLALCHEMY_DATABASE_URI'] = 'sqlite:///site.db'\n",
    "db = SQLAlchemy(app)\n",
    "app.config['SECRET_KEY'] = '5791628bb0b13ce0c676dfde280ba245'\n",
    "current_user = \"\"\n",
    "current_user_id = 0"
   ]
  },
  {
   "cell_type": "code",
   "execution_count": 3,
   "metadata": {
    "collapsed": true
   },
   "outputs": [],
   "source": [
    "def getcookie(string):\n",
    "    if str(string) in request.cookies:\n",
    "        item=request.cookies.get(string)\n",
    "    else:\n",
    "    \titem=0    \n",
    "    return item\n",
    "\n",
    "def predict(text):\n",
    "    start_at = time.time()\n",
    "    # Tokenize text\n",
    "    x_test = pad_sequences(tokenizer.texts_to_sequences([text]), maxlen=300)\n",
    "    # Predict\n",
    "    score = model.predict([x_test])[0]\n",
    "\n",
    "    return {\"score\": float(score),\n",
    "       \"elapsed_time\": time.time()-start_at}\n"
   ]
  },
  {
   "cell_type": "code",
   "execution_count": 4,
   "metadata": {},
   "outputs": [
    {
     "name": "stdout",
     "output_type": "stream",
     "text": [
      "{'score': 0.9315365552902222, 'elapsed_time': 1.4930832386016846}\n"
     ]
    }
   ],
   "source": [
    "print(predict(\"HI THERE\"))"
   ]
  },
  {
   "cell_type": "code",
   "execution_count": 5,
   "metadata": {
    "collapsed": true
   },
   "outputs": [],
   "source": [
    "class User(db.Model):\n",
    "    id = db.Column(db.Integer, primary_key=True)\n",
    "    username = db.Column(db.String(20), unique=True, nullable=False)\n",
    "    email = db.Column(db.String(120), unique=True, nullable=False)\n",
    "    image_file = db.Column(db.String(20), nullable=False, default='default.jpg')\n",
    "    password = db.Column(db.String(60), nullable=False)\n",
    "    posts = db.relationship('Post', backref='author', lazy=True)\n",
    "\n",
    "    def __repr__(self):\n",
    "        return f\"User('{self.username}', '{self.email}', '{self.image_file}')\"\n",
    "\n",
    "\n",
    "class Post(db.Model):\n",
    "    id = db.Column(db.Integer, primary_key=True)\n",
    "    title = db.Column(db.String(100), nullable=False)\n",
    "    date_posted = db.Column(db.DateTime, nullable=False, default=datetime.utcnow)\n",
    "    content = db.Column(db.Text, nullable=False)\n",
    "    sentiment = db.Column(db.Text)\n",
    "    user_id = db.Column(db.Integer, db.ForeignKey('user.id'), nullable=False)\n",
    "\n",
    "    def __repr__(self):\n",
    "        return f\"Post('{self.title}', '{self.date_posted}', '{self.sentiment}')\""
   ]
  },
  {
   "cell_type": "code",
   "execution_count": null,
   "metadata": {
    "collapsed": true
   },
   "outputs": [],
   "source": [
    "\n",
    "# users = {\"Chosen_One\":\"DrewMcintyre123\",\"Architect\":\"SethRollins123\",\"Rated_R_Superstar\":\"Edge123\",\"Phenomenal_One\":\"AJStyles123\"}\n",
    "\n",
    "def login_required(f):\n",
    "    @wraps(f)\n",
    "    def wrap(*args, **kwargs):\n",
    "        if 'logged_in' in session:\n",
    "            return f(*args, **kwargs)\n",
    "        else:\n",
    "            flash('You need to login first.','danger')\n",
    "            return redirect(url_for('login'))\n",
    "    return wrap\n",
    "\n",
    "\n",
    "def validate(password):\n",
    "        if len(password) < 6:\n",
    "            return 1\n",
    "        elif re.search('[0-9]',password) is None:\n",
    "            return 2\n",
    "        elif re.search('[A-Za-z]',password) is None:\n",
    "            return 3\n",
    "        else:\n",
    "            return None\n",
    "\n",
    "\n",
    "def isInvalid(username):\n",
    "        user=User.query.filter_by(username=username).first()\n",
    "        if user:\n",
    "            return 1\n",
    "        else:\n",
    "            return 0\n",
    "\n",
    "\n",
    "def isInvalidMail(email):\n",
    "    user = User.query.filter_by(email=email).first()\n",
    "    if user:\n",
    "        return 1\n",
    "    else:\n",
    "        return 0\n",
    "\n",
    "def row2dict(row):\n",
    "    d = {}\n",
    "    for column in row.__table__.columns:\n",
    "        if(column.name=='user_id'):\n",
    "            # print(int(str(getattr(row, column.name))))\n",
    "            if(db.session.query(User).filter_by(id=int(str(getattr(row, column.name)))).first()!=None):\n",
    "                d[\"author\"] =   str(db.session.query(User).filter_by(id=int(str(getattr(row, column.name)))).first().username)\n",
    "        else:\n",
    "            d[column.name] = str(getattr(row, column.name))\n",
    "    return d\n",
    "\n",
    "\n",
    "\n",
    "def update():\n",
    "    posts.clear()\n",
    "    for i in db.session.query(Post).all():\n",
    "        posts.append(row2dict(i))  "
   ]
  },
  {
   "cell_type": "code",
   "execution_count": null,
   "metadata": {},
   "outputs": [
    {
     "name": "stdout",
     "output_type": "stream",
     "text": [
      "Serving on 0.0.0.0 5004\n"
     ]
    },
    {
     "name": "stderr",
     "output_type": "stream",
     "text": [
      "127.0.0.1 - - [29/Apr/2020 13:48:03] \"GET / HTTP/1.1\" 302 219\n",
      "127.0.0.1 - - [29/Apr/2020 13:48:03] \"GET /robots.txt HTTP/1.1\" 404 276\n",
      "127.0.0.1 - - [29/Apr/2020 13:48:03] \"GET /login HTTP/1.1\" 200 5245\n",
      "127.0.0.1 - - [29/Apr/2020 13:48:03] \"GET /static/main.css HTTP/1.1\" 200 1576\n",
      "127.0.0.1 - - [29/Apr/2020 13:48:04] \"GET /favicon.ico HTTP/1.1\" 404 276\n",
      "127.0.0.1 - - [29/Apr/2020 13:48:07] \"GET /register? HTTP/1.1\" 200 5944\n",
      "127.0.0.1 - - [29/Apr/2020 13:48:29] \"POST /register HTTP/1.1\" 302 217\n",
      "127.0.0.1 - - [29/Apr/2020 13:48:29] \"GET /home HTTP/1.1\" 302 219\n",
      "127.0.0.1 - - [29/Apr/2020 13:48:29] \"GET /login HTTP/1.1\" 200 5404\n",
      "127.0.0.1 - - [29/Apr/2020 13:48:41] \"POST /login HTTP/1.1\" 200 3593\n",
      "127.0.0.1 - - [29/Apr/2020 13:50:51] \"GET /create HTTP/1.1\" 200 4286\n"
     ]
    },
    {
     "name": "stdout",
     "output_type": "stream",
     "text": [
      "{'score': 0.9734655618667603, 'elapsed_time': 0.2611868381500244}\n"
     ]
    },
    {
     "name": "stderr",
     "output_type": "stream",
     "text": [
      "127.0.0.1 - - [29/Apr/2020 13:54:05] \"POST /create HTTP/1.1\" 302 217\n",
      "127.0.0.1 - - [29/Apr/2020 13:54:05] \"GET /home HTTP/1.1\" 200 4358\n"
     ]
    },
    {
     "name": "stdout",
     "output_type": "stream",
     "text": [
      "SELECT post.id AS post_id, post.title AS post_title, post.date_posted AS post_date_posted, post.content AS post_content, post.sentiment AS post_sentiment, post.user_id AS post_user_id \n",
      "FROM post \n",
      "WHERE post.id = ?\n"
     ]
    },
    {
     "name": "stderr",
     "output_type": "stream",
     "text": [
      "127.0.0.1 - - [29/Apr/2020 13:54:27] \"GET /deletePost/1 HTTP/1.1\" 302 217\n",
      "127.0.0.1 - - [29/Apr/2020 13:54:27] \"GET /home HTTP/1.1\" 200 3439\n",
      "127.0.0.1 - - [29/Apr/2020 13:54:30] \"GET /create HTTP/1.1\" 200 4286\n"
     ]
    },
    {
     "name": "stdout",
     "output_type": "stream",
     "text": [
      "{'score': 0.19651156663894653, 'elapsed_time': 0.20314359664916992}\n"
     ]
    },
    {
     "name": "stderr",
     "output_type": "stream",
     "text": [
      "127.0.0.1 - - [29/Apr/2020 13:54:40] \"POST /create HTTP/1.1\" 302 217\n",
      "127.0.0.1 - - [29/Apr/2020 13:54:40] \"GET /home HTTP/1.1\" 200 4177\n"
     ]
    },
    {
     "name": "stdout",
     "output_type": "stream",
     "text": [
      "SELECT post.id AS post_id, post.title AS post_title, post.date_posted AS post_date_posted, post.content AS post_content, post.sentiment AS post_sentiment, post.user_id AS post_user_id \n",
      "FROM post \n",
      "WHERE post.id = ?\n"
     ]
    },
    {
     "name": "stderr",
     "output_type": "stream",
     "text": [
      "127.0.0.1 - - [29/Apr/2020 13:54:43] \"GET /deletePost/1 HTTP/1.1\" 302 217\n",
      "127.0.0.1 - - [29/Apr/2020 13:54:43] \"GET /home HTTP/1.1\" 200 3439\n",
      "127.0.0.1 - - [29/Apr/2020 13:56:02] \"GET /create HTTP/1.1\" 200 4286\n"
     ]
    },
    {
     "name": "stdout",
     "output_type": "stream",
     "text": [
      "{'score': 0.9172559380531311, 'elapsed_time': 0.20514798164367676}\n"
     ]
    },
    {
     "name": "stderr",
     "output_type": "stream",
     "text": [
      "127.0.0.1 - - [29/Apr/2020 13:57:22] \"POST /create HTTP/1.1\" 302 217\n",
      "127.0.0.1 - - [29/Apr/2020 13:57:22] \"GET /home HTTP/1.1\" 200 4337\n"
     ]
    }
   ],
   "source": [
    "\n",
    "posts = []\n",
    "    \n",
    "@app.route(\"/\")\n",
    "@app.route(\"/home\")\n",
    "@login_required\n",
    "def home():\n",
    "    update()\n",
    "    # print(posts)\n",
    "    items = getcookie('Current_User')\n",
    "    ScrollY = getcookie('ScrollY')\n",
    "    return render_template(\"home.html\",ScrollY=ScrollY,posts=posts)\n",
    "\n",
    "@app.route(\"/about\")\n",
    "def about():\n",
    "    resp = make_response(render_template(\"about.html\",title='About'))\n",
    "    resp.set_cookie(\"ScrollY\",getcookie(\"js\"))\n",
    "    return resp\n",
    "\n",
    "\n",
    "@login_required\n",
    "@app.route(\"/create\",methods = ['GET','POST'])\n",
    "def create():\n",
    "    resp=make_response(render_template(\"new_post.html\",title='NEW POST'))\n",
    "    resp.set_cookie(\"ScrollY\",getcookie(\"js\"))\n",
    "    if request.method == 'POST':\n",
    "        if request.form[\"title\"] == \"\" or request.form[\"content\"] == \"\":\n",
    "            flash('Enter all fields','danger')\n",
    "\n",
    "        else:\n",
    "            # print(type(current_user_id))\n",
    "            x=predict(request.form[\"content\"])\n",
    "            print(x)\n",
    "            if(x[\"score\"]>0.5):\n",
    "                sentiment=\"Positive\";\n",
    "            else:\n",
    "                sentiment=\"Negative\";\n",
    "            db.session.add(Post(title = request.form[\"title\"],content = request.form[\"content\"],user_id = getcookie(\"Current_User\"),sentiment=sentiment))\n",
    "            # print(dict(db.session.query(Post).filter_by(title=request.form[\"title\"]).__dict__))\n",
    "            db.session.commit()\n",
    "            update()\n",
    "            return redirect(url_for(\"home\"))\n",
    "    \n",
    "    return resp\n",
    "\n",
    "\n",
    "@app.route('/login', methods=['GET', 'POST'])\n",
    "def login():\n",
    "    error = None\n",
    "    if request.method == 'POST':\n",
    "        # bcrypt.hashpw(request.form['password'].encode('utf-8').encode('utf-8'), hashed_password) == hashed_password\n",
    "        user = User.query.filter_by(username=request.form['username']).first()\n",
    "        hashed_password = User.query.filter_by(username=request.form['username']).first().password\n",
    "        if not (user and (bcrypt.hashpw(request.form['password'].encode('utf-8'), hashed_password) == hashed_password)):\n",
    "                # error = 'Invalid Credentials. Please try again.'\n",
    "                flash('Invalid Credentials. Please try again.','danger')\n",
    "                # print(users)\n",
    "        else:\n",
    "            current_user=request.form['username']\n",
    "            current_user_id = User.query.filter_by(username=request.form['username']).first().id\n",
    "            current_user_id = int(current_user_id)\n",
    "            session['logged_in'] = True\n",
    "            # print(\"CUR1\",current_user)\n",
    "            flash('You were logged in.','success')\n",
    "            update()\n",
    "            resp = make_response(render_template('home.html'))\n",
    "            resp.set_cookie(\"Current_User\",current_user)\n",
    "            resp.set_cookie(\"Current_UserID\",current_user_id)\n",
    "            resp.set_cookie(\"ScrollY\",'0')\n",
    "            return resp\n",
    "\n",
    "    return render_template('login.html', error=error)\n",
    "\n",
    "@app.route('/register', methods=['GET', 'POST'])\n",
    "def register():\n",
    "    error = None\n",
    "    if request.method == 'POST':\n",
    "        if request.form['fname']==\"\" or request.form['lname']==\"\" or request.form['mobile']==\"\" or request.form['email']==\"\" or request.form['username']==\"\" or request.form['password']==\"\" or request.form['cpassword']==\"\":\n",
    "            flash('Fill all Credentials and Try again.',\"danger\")\n",
    "        else:\n",
    "            if not(request.form['password']==request.form['cpassword']):\n",
    "                flash('Passwords mismatch',\"danger\")\n",
    "            else:\n",
    "                x = validate(request.form['password'])\n",
    "                if x is not None:\n",
    "                    if x==1:\n",
    "                        flash(\"Make sure your password is atlaest 6 letters\",\"danger\")\n",
    "                    elif x==2:\n",
    "                        flash(\"Make sure your password has a number in it\",\"danger\")\n",
    "                    else:\n",
    "                        flash(\"Make sure your password has a letter in it\",\"danger\")\n",
    "                elif isInvalid(request.form['username']):\n",
    "                    flash(\"Username already exists!!\", \"danger\")\n",
    "                elif isInvalidMail(request.form['email']):\n",
    "                    flash(\"Email already exists!!\", \"danger\")\n",
    "                else:\n",
    "                    hashed_password = bcrypt.hashpw(request.form['password'].encode('utf-8'),bcrypt.gensalt())\n",
    "                        # .decode('utf-8')\n",
    "                    user = User(username=request.form['username'],email=request.form['email'],password=hashed_password)\n",
    "                    db.session.add(user)\n",
    "                    db.session.commit()\n",
    "                    flash(\"Registration Success!! Your Details have been added.\" ,\"warning\")\n",
    "                    # print(hashed_password)\n",
    "                    # print(users)\n",
    "                    return redirect(url_for('home'))\n",
    "\n",
    "    return render_template('register.html', error=error)\n",
    "\n",
    "@app.route('/deletePost/<blogid>')\n",
    "@login_required\n",
    "def deletePost(blogid):\n",
    "    Post.query.filter_by(id=int(blogid)).delete()\n",
    "    # db.session.delete(obj)\n",
    "    print(Post.query.filter_by(id=int(blogid)))\n",
    "    db.session.commit()\n",
    "    return redirect(url_for('home'))\n",
    "\n",
    "@app.route('/logout')\n",
    "@login_required\n",
    "def logout():\n",
    "    session.pop('logged_in', None)\n",
    "    current_user=\"\"\n",
    "    current_user_id=\"\"\n",
    "    flash('You were logged out.')\n",
    "    # print(\"CUR2\",current_user)\n",
    "    resp = make_response(render_template('login.html'))\n",
    "    resp.set_cookie('Current_User', '')\n",
    "    resp.set_cookie(\"Current_UserID\",'')\n",
    "    resp.set_cookie('ScrollY', '0')\n",
    "    return resp\n",
    "\n",
    "\n",
    "@app.errorhandler(404)\n",
    "def page_not_found(e):\n",
    "    # note that we set the 404 status explicitly\n",
    "    # flash('Non Existent Page',\"error\")\n",
    "    return render_template('error.html'), 404\n",
    "\n",
    "if __name__ == \"__main__\":\n",
    "    host = '0.0.0.0'\n",
    "    port = 5004\n",
    "    httpd = simple_server.make_server(host, port, app)\n",
    "    print(\"Serving on %s %d\" % (host, port))\n",
    "    httpd.serve_forever()"
   ]
  }
 ],
 "metadata": {
  "kernelspec": {
   "display_name": "Python 3",
   "language": "python",
   "name": "python3"
  },
  "language_info": {
   "codemirror_mode": {
    "name": "ipython",
    "version": 3
   },
   "file_extension": ".py",
   "mimetype": "text/x-python",
   "name": "python",
   "nbconvert_exporter": "python",
   "pygments_lexer": "ipython3",
   "version": "3.6.3"
  }
 },
 "nbformat": 4,
 "nbformat_minor": 2
}
